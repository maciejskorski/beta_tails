{
  "nbformat": 4,
  "nbformat_minor": 0,
  "metadata": {
    "colab": {
      "provenance": [],
      "authorship_tag": "ABX9TyNAPUPjpCR68rbqGtE1yfdC",
      "include_colab_link": true
    },
    "kernelspec": {
      "name": "python3",
      "display_name": "Python 3"
    }
  },
  "cells": [
    {
      "cell_type": "markdown",
      "metadata": {
        "id": "view-in-github",
        "colab_type": "text"
      },
      "source": [
        "<a href=\"https://colab.research.google.com/github/maciejskorski/beta_tails/blob/main/Beta_SubGamma.ipynb\" target=\"_parent\"><img src=\"https://colab.research.google.com/assets/colab-badge.svg\" alt=\"Open In Colab\"/></a>"
      ]
    },
    {
      "cell_type": "markdown",
      "metadata": {
        "id": "kwKaNDJvIeq2"
      },
      "source": [
        "# Berstein Bounds for Beta Distribution"
      ]
    },
    {
      "cell_type": "code",
      "metadata": {
        "id": "l5p7fM3bIo5C"
      },
      "source": [
        "#@title Install Packages"
      ],
      "execution_count": 1,
      "outputs": []
    },
    {
      "cell_type": "markdown",
      "source": [
        "## Optimality\n",
        "\n",
        "Let $X\\sim\\mathsf{Beta}(\\alpha,\\beta)$. We prove that the *best Chernoff-Cramer  bound* is\n",
        "$$\n",
        "\\mathbf{P}\\{X>\\mathbf{E}[X]+\\epsilon\\} \\leqslant \\exp\\left(-\\frac{\\epsilon^{2}}{2 v} + \\frac{c \\epsilon^{3}}{6 v^{2}} + O\\left(\\epsilon^{4}\\right)\\right), \\quad \\epsilon \\to 0.\n",
        "$$\n",
        "which matches the bound in the paper."
      ],
      "metadata": {
        "id": "f70Cok5mEJiM"
      }
    },
    {
      "cell_type": "code",
      "source": [
        "import sympy as sm\n",
        "from IPython.display import display\n",
        "\n",
        "t,eps,v,c = sm.symbols('t,epsilon,v,c')\n",
        "\n",
        "MGF = 1 + t**2*v/2 + t**3*v*c/6 \n",
        "log_MGF = sm.log(MGF)\n",
        "d_log_MGF = log_MGF.diff(t)\n",
        "crammer_chernoff = eps*t-log_MGF\n",
        "\n",
        "ks = [1,2]\n",
        "t_eps_coeffs = [ 1/sm.factorial(k)*((t/d_log_MGF)**k).diff(t,k-1).series(t,0,1).subs({t:0}) for k in ks]\n",
        "t_eps = sum( eps**k*c.simplify() for (c,k) in zip(t_eps_coeffs,ks) )\n",
        "t_eps = t_eps.series(eps,0,3)\n",
        "display(sm.Eq(sm.symbols('t_eps'),t_eps))\n",
        "\n",
        "bound_best = crammer_chernoff\\\n",
        "  .subs({t:t_eps})\\\n",
        "  .series(eps,0,4)\n",
        "\n",
        "display(sm.Eq(sm.symbols('\\psi^{*}(\\epsilon)'),bound_best))"
      ],
      "metadata": {
        "colab": {
          "base_uri": "https://localhost:8080/",
          "height": 91
        },
        "id": "tY5a0G8MzntV",
        "outputId": "9b80f772-3911-4a5b-9506-955a9968178b"
      },
      "execution_count": 2,
      "outputs": [
        {
          "output_type": "display_data",
          "data": {
            "text/plain": [
              "Eq(t_eps, -c*epsilon**2/(2*v**2) + epsilon/v)"
            ],
            "text/latex": "$\\displaystyle t_{eps} = - \\frac{c \\epsilon^{2}}{2 v^{2}} + \\frac{\\epsilon}{v}$"
          },
          "metadata": {}
        },
        {
          "output_type": "display_data",
          "data": {
            "text/plain": [
              "Eq(\\psi^{*}(\\epsilon), epsilon**2/(2*v) - c*epsilon**3/(6*v**2) + O(epsilon**4))"
            ],
            "text/latex": "$\\displaystyle \\psi^{*}(\\epsilon) = \\frac{\\epsilon^{2}}{2 v} - \\frac{c \\epsilon^{3}}{6 v^{2}} + O\\left(\\epsilon^{4}\\right)$"
          },
          "metadata": {}
        }
      ]
    },
    {
      "cell_type": "markdown",
      "source": [
        "## Moment Recursion\n",
        "\n",
        "The code below efficiently implements the order-2 recursion for central moments of beta distribution. "
      ],
      "metadata": {
        "id": "_ajkiEtTOGO9"
      }
    },
    {
      "cell_type": "code",
      "source": [
        "from functools import lru_cache\n",
        "\n",
        "@lru_cache(100)\n",
        "def beta_central_moment(d,a,b):\n",
        "  \"\"\" Find the central moment of order d for Beta(a,b) \"\"\"\n",
        "  if d == 0:\n",
        "    return 1\n",
        "  elif d == 1:\n",
        "    return 0\n",
        "  else:\n",
        "    # recurssion coefficients derived in the paper\n",
        "    c1 = (d-1)*(b-a)/((a+b)*(a+b+d-1))\n",
        "    c2 = (d-1)*a*b/((a+b)**2*(a+b+d-1))\n",
        "    return c1*beta_central_moment(d-1,a,b)+c2*beta_central_moment(d-2,a,b)"
      ],
      "metadata": {
        "id": "XDHdVGbmOFYO"
      },
      "execution_count": 3,
      "outputs": []
    },
    {
      "cell_type": "code",
      "source": [
        "# example: find the variance\n",
        "import sympy as sm\n",
        "b,a = sm.symbols('beta alpha',positive=True)\n",
        "beta_central_moment(2,a,b)"
      ],
      "metadata": {
        "colab": {
          "base_uri": "https://localhost:8080/",
          "height": 59
        },
        "id": "Dyn2AzjS__9z",
        "outputId": "5f60e11c-190c-4df7-ecd9-91917986bc1a"
      },
      "execution_count": 4,
      "outputs": [
        {
          "output_type": "execute_result",
          "data": {
            "text/plain": [
              "alpha*beta/((alpha + beta)**2*(alpha + beta + 1))"
            ],
            "text/latex": "$\\displaystyle \\frac{\\alpha \\beta}{\\left(\\alpha + \\beta\\right)^{2} \\left(\\alpha + \\beta + 1\\right)}$"
          },
          "metadata": {},
          "execution_count": 4
        }
      ]
    },
    {
      "cell_type": "code",
      "source": [
        "# example: find the skewness\n",
        "import sympy as sm\n",
        "b,a = sm.symbols('beta alpha',positive=True)\n",
        "var = beta_central_moment(2,a,b)\n",
        "(beta_central_moment(3,a,b)/sm.sqrt(var**3)).factor()"
      ],
      "metadata": {
        "colab": {
          "base_uri": "https://localhost:8080/",
          "height": 59
        },
        "id": "dVNvIdOtBXfn",
        "outputId": "ed2285c8-8c41-4106-fd8a-0887008e4149"
      },
      "execution_count": 5,
      "outputs": [
        {
          "output_type": "execute_result",
          "data": {
            "text/plain": [
              "-2*(alpha - beta)*sqrt(alpha + beta + 1)/(sqrt(alpha)*sqrt(beta)*(alpha + beta + 2))"
            ],
            "text/latex": "$\\displaystyle - \\frac{2 \\left(\\alpha - \\beta\\right) \\sqrt{\\alpha + \\beta + 1}}{\\sqrt{\\alpha} \\sqrt{\\beta} \\left(\\alpha + \\beta + 2\\right)}$"
          },
          "metadata": {},
          "execution_count": 5
        }
      ]
    },
    {
      "cell_type": "markdown",
      "source": [
        "## Numerical Comparison\n",
        "\n",
        "The sub-gamma bounds from this paper are demonstrated better than sub-gaussian bounds, for skewed distributions. For sub-gaussian bounds we use [the author implementation ](https://github.com/jarbel/Beta-sub-Gaussian/blob/master/functions/subGaussian-fun.R) with adjusted initial conditions for the root-finding part. "
      ],
      "metadata": {
        "id": "NdvPgOwBso3g"
      }
    },
    {
      "cell_type": "code",
      "metadata": {
        "colab": {
          "base_uri": "https://localhost:8080/",
          "height": 462
        },
        "id": "wlztf9O13wvY",
        "outputId": "c38f8e89-8d1b-4849-f7d6-b3e62adace96"
      },
      "source": [
        "from mpmath import hyp1f1\n",
        "from scipy.optimize import root_scalar\n",
        "from scipy.stats import beta\n",
        "from scipy.special import betainc\n",
        "import numpy as np\n",
        "import pandas as pd\n",
        "import matplotlib.pyplot as plt\n",
        "\n",
        "plt.style.use('ggplot')\n",
        "\n",
        "\n",
        "hyp1f1 = np.vectorize(hyp1f1,otypes=(np.double,))\n",
        "\n",
        "def beta_subgauss(a,b):\n",
        "  ''' variance for sub-gaussian approx of beta distribution\n",
        "      based on https://arxiv.org/pdf/1705.00048.pdf and implementation https://github.com/jarbel/Beta-sub-Gaussian/blob/master/functions/subGaussian-fun.R '''\n",
        "  f = lambda x: np.log(hyp1f1(a,a+b,x)) - 0.5*x*a*1/(a+b)*( 1 + hyp1f1(a+1,a+b+1,x) / hyp1f1(a,a+b,x) )\n",
        "  x0 = root_scalar(f,bracket=[1e-3,5e2],method='bisect').root\n",
        "  v2 = a*1/((a+b)*x0)*(hyp1f1(a+1,a+b+1,x0) / hyp1f1(a,a+b,x0)-1)\n",
        "  return v2\n",
        "\n",
        "def beta_variance(a,b):\n",
        "  return a*b * 1/ (a+b)**2 * 1/(a+b+1)\n",
        "\n",
        "def beta_subgamma(a,b):\n",
        "  ''' variance and scale for sub-gamma approx of beta distribution \n",
        "      based on: (this paper)'''\n",
        "  v2 = beta_variance(a,b)\n",
        "  c = max(2/3*(b-a)/(a+b)*1/(a+b+1),0)\n",
        "  return v2,c\n",
        "\n",
        "def beta_tail_frankl(a,b,eps):\n",
        "  ''' the sub-gamma tail approximation due to Frankl and Maehera \n",
        "      based on discussion in: Continuous Univariate Distributions\n",
        "  '''\n",
        "  mu = a/(a+b)\n",
        "  eps = eps / mu\n",
        "  eps_exp = eps**2/2-eps**3/3\n",
        "  tail = 2/(eps_exp/eps) * ((a+b)/(2*np.pi*a*b))**0.5 * np.exp(-a*eps_exp)\n",
        "  \n",
        "  return tail\n",
        "\n",
        "\n",
        "\n",
        "def compare_tails(a,b,eps,ax):\n",
        "  '''compares sub-gaussian and sub-gamma tail approximations for Beta distribution '''\n",
        "\n",
        "  mean = a/(a+b)\n",
        "  v2_gauss = beta_subgauss(a,b)\n",
        "  v2_gamma,c_gamma = beta_subgamma(a,b)\n",
        "\n",
        "  tail_true = 1-beta(a,b).cdf(mean+eps)\n",
        "  tail_sub_gauss = np.exp(- eps**2 / (2*v2_gauss) )\n",
        "  tail_sub_gamma = np.exp(- eps**2/(2*v2_gamma + 2*eps*c_gamma ))\n",
        "\n",
        "  ax.plot(eps,tail_sub_gauss,':',label='sub-gaussian bound')\n",
        "  ax.plot(eps,tail_sub_gamma,'--',linewidth=2,label='sub-gamma bound (this work)')\n",
        "\n",
        "  ax.legend()\n",
        "  ax.set_xlabel('$\\epsilon$')\n",
        "  ax.set_ylabel('tail prob. $\\delta$')\n",
        "  ax.set_title(f'Beta({a},{b})')\n",
        "  return tail_sub_gauss,tail_sub_gamma\n",
        "\n",
        "\n",
        "params = [(2,98,0.2),(8,92,0.2)] # params of your choice\n",
        "fig,axs = plt.subplots(1,2,figsize=(14,7))\n",
        "\n",
        "for (a,b,eps_max),ax in zip(params,axs):\n",
        "  eps = np.linspace(0,eps_max,1000)\n",
        "  tail_sub_gauss, tail_sub_gamma = compare_tails(a,b,eps,ax)\n",
        "\n",
        "  out = pd.DataFrame([eps,tail_sub_gauss,tail_sub_gamma]).T\n",
        "  out.columns = ['eps','subgauss','subgamma']\n",
        "  out.to_csv(f'beta_{a}_{b}.csv')\n",
        "\n",
        "plt.show()"
      ],
      "execution_count": 6,
      "outputs": [
        {
          "output_type": "display_data",
          "data": {
            "text/plain": [
              "<Figure size 1008x504 with 2 Axes>"
            ],
            "image/png": "[encoded data removed]"
          },
          "metadata": {}
        }
      ]
    }
  ]
}